{
 "cells": [
  {
   "cell_type": "code",
   "execution_count": 1,
   "id": "42725ade-fca9-481e-a049-67c77f22d10e",
   "metadata": {},
   "outputs": [
    {
     "name": "stdout",
     "output_type": "stream",
     "text": [
      "Lista original:  [29, 10, 14, 37, 13]\n",
      "Lista ordenada:  [10, 13, 14, 29, 37]\n",
      "Maior elemento:  37\n"
     ]
    }
   ],
   "source": [
    "def selection_sort(arr):\n",
    "    for i in range(len(arr)):\n",
    "        min_idx = i\n",
    "        for j in range(i + 1, len(arr)):\n",
    "            if arr[j] < arr[min_idx]:\n",
    "                min_idx = j\n",
    "        arr[i], arr[min_idx] = arr[min_idx], arr[i]\n",
    "    return arr\n",
    "\n",
    "# Lista de exemplo\n",
    "lista = [29, 10, 14, 37, 13]\n",
    "print(\"Lista original: \", lista)\n",
    "\n",
    "lista_ordenada = selection_sort(lista)\n",
    "print(\"Lista ordenada: \", lista_ordenada)\n",
    "\n",
    "def find_max(lista_ordenada):\n",
    "    return lista_ordenada[-1]\n",
    "\n",
    "# Adicione abaixo o método (find_max(lista_ordenada)) para encontrar e exibir o maior elemento da lista ordenada\n",
    "\n",
    "print(\"Maior elemento: \", find_max(lista_ordenada))"
   ]
  },
  {
   "cell_type": "code",
   "execution_count": null,
   "id": "a1e36450-f005-48a9-9ca7-3ae5696ed686",
   "metadata": {},
   "outputs": [],
   "source": []
  }
 ],
 "metadata": {
  "kernelspec": {
   "display_name": "Python 3 (ipykernel)",
   "language": "python",
   "name": "python3"
  },
  "language_info": {
   "codemirror_mode": {
    "name": "ipython",
    "version": 3
   },
   "file_extension": ".py",
   "mimetype": "text/x-python",
   "name": "python",
   "nbconvert_exporter": "python",
   "pygments_lexer": "ipython3",
   "version": "3.12.4"
  }
 },
 "nbformat": 4,
 "nbformat_minor": 5
}
